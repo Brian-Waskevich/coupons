{
 "cells": [
  {
   "cell_type": "markdown",
   "metadata": {
    "id": "CcUT6Fon_qRE"
   },
   "source": [
    "### Required Assignment 5.1: Will the Customer Accept the Coupon?\n",
    "\n",
    "**Context**\n",
    "\n",
    "Imagine driving through town and a coupon is delivered to your cell phone for a restaurant near where you are driving. Would you accept that coupon and take a short detour to the restaurant? Would you accept the coupon but use it on a subsequent trip? Would you ignore the coupon entirely? What if the coupon was for a bar instead of a restaurant? What about a coffee house? Would you accept a bar coupon with a minor passenger in the car? What about if it was just you and your partner in the car? Would weather impact the rate of acceptance? What about the time of day?\n",
    "\n",
    "Obviously, proximity to the business is a factor on whether the coupon is delivered to the driver or not, but what are the factors that determine whether a driver accepts the coupon once it is delivered to them? How would you determine whether a driver is likely to accept a coupon?\n",
    "\n",
    "**Overview**\n",
    "\n",
    "The goal of this project is to use what you know about visualizations and probability distributions to distinguish between customers who accepted a driving coupon versus those that did not.\n",
    "\n",
    "**Data**\n",
    "\n",
    "This data comes to us from the UCI Machine Learning repository and was collected via a survey on Amazon Mechanical Turk. The survey describes different driving scenarios including the destination, current time, weather, passenger, etc., and then ask the person whether he will accept the coupon if he is the driver. Answers that the user will drive there ‘right away’ or ‘later before the coupon expires’ are labeled as ‘Y = 1’ and answers ‘no, I do not want the coupon’ are labeled as ‘Y = 0’.  There are five different types of coupons -- less expensive restaurants (under 20), coffee houses, carry out & take away, bar, and more expensive restaurants (20 - 50)."
   ]
  },
  {
   "cell_type": "markdown",
   "metadata": {
    "id": "1wORvMBJ_qRF"
   },
   "source": [
    "**Deliverables**\n",
    "\n",
    "Your final product should be a brief report that highlights the differences between customers who did and did not accept the coupons.  To explore the data you will utilize your knowledge of plotting, statistical summaries, and visualization using Python. You will publish your findings in a public facing github repository as your first portfolio piece.\n",
    "\n",
    "\n",
    "\n"
   ]
  },
  {
   "cell_type": "markdown",
   "metadata": {
    "id": "pG6_Ym6q_qRG"
   },
   "source": [
    "### Data Description\n",
    "Keep in mind that these values mentioned below are average values.\n",
    "\n",
    "The attributes of this data set include:\n",
    "1. User attributes\n",
    "    -  Gender: male, female\n",
    "    -  Age: below 21, 21 to 25, 26 to 30, etc.\n",
    "    -  Marital Status: single, married partner, unmarried partner, or widowed\n",
    "    -  Number of children: 0, 1, or more than 1\n",
    "    -  Education: high school, bachelors degree, associates degree, or graduate degree\n",
    "    -  Occupation: architecture & engineering, business & financial, etc.\n",
    "    -  Annual income: less than \\\\$12500, \\\\$12500 - \\\\$24999, \\\\$25000 - \\\\$37499, etc.\n",
    "    -  Number of times that he/she goes to a bar: 0, less than 1, 1 to 3, 4 to 8 or greater than 8\n",
    "    -  Number of times that he/she buys takeaway food: 0, less than 1, 1 to 3, 4 to 8 or greater\n",
    "    than 8\n",
    "    -  Number of times that he/she goes to a coffee house: 0, less than 1, 1 to 3, 4 to 8 or\n",
    "    greater than 8\n",
    "    -  Number of times that he/she eats at a restaurant with average expense less than \\\\$20 per\n",
    "    person: 0, less than 1, 1 to 3, 4 to 8 or greater than 8\n",
    "    -  Number of times that he/she goes to a bar: 0, less than 1, 1 to 3, 4 to 8 or greater than 8\n",
    "    \n",
    "\n",
    "2. Contextual attributes\n",
    "    - Driving destination: home, work, or no urgent destination\n",
    "    - Location of user, coupon and destination: we provide a map to show the geographical\n",
    "    location of the user, destination, and the venue, and we mark the distance between each\n",
    "    two places with time of driving. The user can see whether the venue is in the same\n",
    "    direction as the destination.\n",
    "    - Weather: sunny, rainy, or snowy\n",
    "    - Temperature: 30F, 55F, or 80F\n",
    "    - Time: 10AM, 2PM, or 6PM\n",
    "    - Passenger: alone, partner, kid(s), or friend(s)\n",
    "\n",
    "\n",
    "3. Coupon attributes\n",
    "    - time before it expires: 2 hours or one day"
   ]
  },
  {
   "cell_type": "code",
   "execution_count": 4,
   "metadata": {
    "id": "dzNoP3o__qRG"
   },
   "outputs": [],
   "source": [
    "import matplotlib.pyplot as plt\n",
    "import seaborn as sns\n",
    "import pandas as pd\n",
    "import numpy as np\n",
    "\n",
    "pd.set_option('display.max_columns', None)\n",
    "pd.set_option('display.max_rows', 5)"
   ]
  },
  {
   "cell_type": "markdown",
   "metadata": {
    "id": "Ct8pI1uE_qRG"
   },
   "source": [
    "### Problems\n",
    "\n",
    "Use the prompts below to get started with your data analysis.  \n",
    "\n",
    "1. Read in the `coupons.csv` file.\n",
    "\n",
    "\n"
   ]
  },
  {
   "cell_type": "code",
   "execution_count": 6,
   "metadata": {
    "id": "X0vbffYg_qRH"
   },
   "outputs": [],
   "source": [
    "data = pd.read_csv('data/coupons.csv')"
   ]
  },
  {
   "cell_type": "markdown",
   "metadata": {
    "id": "GcDs78ZH_qRH"
   },
   "source": [
    "2. Investigate the dataset for missing or problematic data."
   ]
  },
  {
   "cell_type": "code",
   "execution_count": 8,
   "metadata": {
    "id": "6CwL6oWj_qRH"
   },
   "outputs": [
    {
     "name": "stdout",
     "output_type": "stream",
     "text": [
      "<class 'pandas.core.frame.DataFrame'>\n",
      "RangeIndex: 12684 entries, 0 to 12683\n",
      "Data columns (total 26 columns):\n",
      " #   Column                Non-Null Count  Dtype \n",
      "---  ------                --------------  ----- \n",
      " 0   destination           12684 non-null  object\n",
      " 1   passanger             12684 non-null  object\n",
      " 2   weather               12684 non-null  object\n",
      " 3   temperature           12684 non-null  int64 \n",
      " 4   time                  12684 non-null  object\n",
      " 5   coupon                12684 non-null  object\n",
      " 6   expiration            12684 non-null  object\n",
      " 7   gender                12684 non-null  object\n",
      " 8   age                   12684 non-null  object\n",
      " 9   maritalStatus         12684 non-null  object\n",
      " 10  has_children          12684 non-null  int64 \n",
      " 11  education             12684 non-null  object\n",
      " 12  occupation            12684 non-null  object\n",
      " 13  income                12684 non-null  object\n",
      " 14  car                   108 non-null    object\n",
      " 15  Bar                   12577 non-null  object\n",
      " 16  CoffeeHouse           12467 non-null  object\n",
      " 17  CarryAway             12533 non-null  object\n",
      " 18  RestaurantLessThan20  12554 non-null  object\n",
      " 19  Restaurant20To50      12495 non-null  object\n",
      " 20  toCoupon_GEQ5min      12684 non-null  int64 \n",
      " 21  toCoupon_GEQ15min     12684 non-null  int64 \n",
      " 22  toCoupon_GEQ25min     12684 non-null  int64 \n",
      " 23  direction_same        12684 non-null  int64 \n",
      " 24  direction_opp         12684 non-null  int64 \n",
      " 25  Y                     12684 non-null  int64 \n",
      "dtypes: int64(8), object(18)\n",
      "memory usage: 2.5+ MB\n"
     ]
    }
   ],
   "source": [
    "data.info()"
   ]
  },
  {
   "cell_type": "code",
   "execution_count": 9,
   "metadata": {},
   "outputs": [
    {
     "data": {
      "text/plain": [
       "array([nan, 'Scooter and motorcycle', 'crossover', 'Mazda5',\n",
       "       'do not drive', 'Car that is too old to install Onstar :D'],\n",
       "      dtype=object)"
      ]
     },
     "execution_count": 9,
     "metadata": {},
     "output_type": "execute_result"
    }
   ],
   "source": [
    "#Car data is incomplete and doesn't make much sense\n",
    "#What does 'do not drive' mean? Probably best to remove from dataset\n",
    "car = data['car'].unique()\n",
    "car"
   ]
  },
  {
   "cell_type": "markdown",
   "metadata": {
    "id": "bSdVSpYB_qRH"
   },
   "source": [
    "3. Decide what to do about your missing data -- drop, replace, other..."
   ]
  },
  {
   "cell_type": "code",
   "execution_count": 11,
   "metadata": {},
   "outputs": [],
   "source": [
    "#Dropping 'car' column\n",
    "data = data.drop('car', axis=1)\n",
    "\n",
    "#Removing remaining rows with null values\n",
    "data = data.dropna()"
   ]
  },
  {
   "cell_type": "code",
   "execution_count": 12,
   "metadata": {
    "id": "tyvoAC5F_qRI"
   },
   "outputs": [
    {
     "name": "stderr",
     "output_type": "stream",
     "text": [
      "C:\\Users\\Brian\\AppData\\Local\\Temp\\ipykernel_11004\\1890906470.py:16: FutureWarning: Downcasting behavior in `replace` is deprecated and will be removed in a future version. To retain the old behavior, explicitly call `result.infer_objects(copy=False)`. To opt-in to the future behavior, set `pd.set_option('future.no_silent_downcasting', True)`\n",
      "  data = data.replace(old, new)\n"
     ]
    },
    {
     "data": {
      "text/html": [
       "<div>\n",
       "<style scoped>\n",
       "    .dataframe tbody tr th:only-of-type {\n",
       "        vertical-align: middle;\n",
       "    }\n",
       "\n",
       "    .dataframe tbody tr th {\n",
       "        vertical-align: top;\n",
       "    }\n",
       "\n",
       "    .dataframe thead th {\n",
       "        text-align: right;\n",
       "    }\n",
       "</style>\n",
       "<table border=\"1\" class=\"dataframe\">\n",
       "  <thead>\n",
       "    <tr style=\"text-align: right;\">\n",
       "      <th></th>\n",
       "      <th>destination</th>\n",
       "      <th>passanger</th>\n",
       "      <th>weather</th>\n",
       "      <th>temperature</th>\n",
       "      <th>time</th>\n",
       "      <th>coupon</th>\n",
       "      <th>expiration</th>\n",
       "      <th>gender</th>\n",
       "      <th>age</th>\n",
       "      <th>maritalStatus</th>\n",
       "      <th>has_children</th>\n",
       "      <th>education</th>\n",
       "      <th>occupation</th>\n",
       "      <th>income</th>\n",
       "      <th>Bar</th>\n",
       "      <th>CoffeeHouse</th>\n",
       "      <th>CarryAway</th>\n",
       "      <th>RestaurantLessThan20</th>\n",
       "      <th>Restaurant20To50</th>\n",
       "      <th>toCoupon_GEQ5min</th>\n",
       "      <th>toCoupon_GEQ15min</th>\n",
       "      <th>toCoupon_GEQ25min</th>\n",
       "      <th>direction_same</th>\n",
       "      <th>direction_opp</th>\n",
       "      <th>Y</th>\n",
       "      <th>income_min</th>\n",
       "    </tr>\n",
       "  </thead>\n",
       "  <tbody>\n",
       "    <tr>\n",
       "      <th>22</th>\n",
       "      <td>No Urgent Place</td>\n",
       "      <td>Alone</td>\n",
       "      <td>Sunny</td>\n",
       "      <td>55</td>\n",
       "      <td>14</td>\n",
       "      <td>Restaurant(&lt;20)</td>\n",
       "      <td>1d</td>\n",
       "      <td>Male</td>\n",
       "      <td>21</td>\n",
       "      <td>Single</td>\n",
       "      <td>0</td>\n",
       "      <td>Bachelors degree</td>\n",
       "      <td>Architecture &amp; Engineering</td>\n",
       "      <td>$62500 - $74999</td>\n",
       "      <td>never</td>\n",
       "      <td>less1</td>\n",
       "      <td>4~8</td>\n",
       "      <td>4~8</td>\n",
       "      <td>less1</td>\n",
       "      <td>1</td>\n",
       "      <td>0</td>\n",
       "      <td>0</td>\n",
       "      <td>0</td>\n",
       "      <td>1</td>\n",
       "      <td>1</td>\n",
       "      <td>62500</td>\n",
       "    </tr>\n",
       "    <tr>\n",
       "      <th>23</th>\n",
       "      <td>No Urgent Place</td>\n",
       "      <td>Friend(s)</td>\n",
       "      <td>Sunny</td>\n",
       "      <td>80</td>\n",
       "      <td>10</td>\n",
       "      <td>Coffee House</td>\n",
       "      <td>2h</td>\n",
       "      <td>Male</td>\n",
       "      <td>21</td>\n",
       "      <td>Single</td>\n",
       "      <td>0</td>\n",
       "      <td>Bachelors degree</td>\n",
       "      <td>Architecture &amp; Engineering</td>\n",
       "      <td>$62500 - $74999</td>\n",
       "      <td>never</td>\n",
       "      <td>less1</td>\n",
       "      <td>4~8</td>\n",
       "      <td>4~8</td>\n",
       "      <td>less1</td>\n",
       "      <td>1</td>\n",
       "      <td>0</td>\n",
       "      <td>0</td>\n",
       "      <td>0</td>\n",
       "      <td>1</td>\n",
       "      <td>0</td>\n",
       "      <td>62500</td>\n",
       "    </tr>\n",
       "    <tr>\n",
       "      <th>...</th>\n",
       "      <td>...</td>\n",
       "      <td>...</td>\n",
       "      <td>...</td>\n",
       "      <td>...</td>\n",
       "      <td>...</td>\n",
       "      <td>...</td>\n",
       "      <td>...</td>\n",
       "      <td>...</td>\n",
       "      <td>...</td>\n",
       "      <td>...</td>\n",
       "      <td>...</td>\n",
       "      <td>...</td>\n",
       "      <td>...</td>\n",
       "      <td>...</td>\n",
       "      <td>...</td>\n",
       "      <td>...</td>\n",
       "      <td>...</td>\n",
       "      <td>...</td>\n",
       "      <td>...</td>\n",
       "      <td>...</td>\n",
       "      <td>...</td>\n",
       "      <td>...</td>\n",
       "      <td>...</td>\n",
       "      <td>...</td>\n",
       "      <td>...</td>\n",
       "      <td>...</td>\n",
       "    </tr>\n",
       "    <tr>\n",
       "      <th>12682</th>\n",
       "      <td>Work</td>\n",
       "      <td>Alone</td>\n",
       "      <td>Snowy</td>\n",
       "      <td>30</td>\n",
       "      <td>7</td>\n",
       "      <td>Bar</td>\n",
       "      <td>1d</td>\n",
       "      <td>Male</td>\n",
       "      <td>26</td>\n",
       "      <td>Single</td>\n",
       "      <td>0</td>\n",
       "      <td>Bachelors degree</td>\n",
       "      <td>Sales &amp; Related</td>\n",
       "      <td>$75000 - $87499</td>\n",
       "      <td>never</td>\n",
       "      <td>never</td>\n",
       "      <td>1~3</td>\n",
       "      <td>4~8</td>\n",
       "      <td>1~3</td>\n",
       "      <td>1</td>\n",
       "      <td>1</td>\n",
       "      <td>1</td>\n",
       "      <td>0</td>\n",
       "      <td>1</td>\n",
       "      <td>0</td>\n",
       "      <td>75000</td>\n",
       "    </tr>\n",
       "    <tr>\n",
       "      <th>12683</th>\n",
       "      <td>Work</td>\n",
       "      <td>Alone</td>\n",
       "      <td>Sunny</td>\n",
       "      <td>80</td>\n",
       "      <td>7</td>\n",
       "      <td>Restaurant(20-50)</td>\n",
       "      <td>2h</td>\n",
       "      <td>Male</td>\n",
       "      <td>26</td>\n",
       "      <td>Single</td>\n",
       "      <td>0</td>\n",
       "      <td>Bachelors degree</td>\n",
       "      <td>Sales &amp; Related</td>\n",
       "      <td>$75000 - $87499</td>\n",
       "      <td>never</td>\n",
       "      <td>never</td>\n",
       "      <td>1~3</td>\n",
       "      <td>4~8</td>\n",
       "      <td>1~3</td>\n",
       "      <td>1</td>\n",
       "      <td>0</td>\n",
       "      <td>0</td>\n",
       "      <td>1</td>\n",
       "      <td>0</td>\n",
       "      <td>0</td>\n",
       "      <td>75000</td>\n",
       "    </tr>\n",
       "  </tbody>\n",
       "</table>\n",
       "<p>12079 rows × 26 columns</p>\n",
       "</div>"
      ],
      "text/plain": [
       "           destination  passanger weather  temperature  time  \\\n",
       "22     No Urgent Place      Alone   Sunny           55    14   \n",
       "23     No Urgent Place  Friend(s)   Sunny           80    10   \n",
       "...                ...        ...     ...          ...   ...   \n",
       "12682             Work      Alone   Snowy           30     7   \n",
       "12683             Work      Alone   Sunny           80     7   \n",
       "\n",
       "                  coupon expiration gender  age maritalStatus  has_children  \\\n",
       "22       Restaurant(<20)         1d   Male   21        Single             0   \n",
       "23          Coffee House         2h   Male   21        Single             0   \n",
       "...                  ...        ...    ...  ...           ...           ...   \n",
       "12682                Bar         1d   Male   26        Single             0   \n",
       "12683  Restaurant(20-50)         2h   Male   26        Single             0   \n",
       "\n",
       "              education                  occupation           income    Bar  \\\n",
       "22     Bachelors degree  Architecture & Engineering  $62500 - $74999  never   \n",
       "23     Bachelors degree  Architecture & Engineering  $62500 - $74999  never   \n",
       "...                 ...                         ...              ...    ...   \n",
       "12682  Bachelors degree             Sales & Related  $75000 - $87499  never   \n",
       "12683  Bachelors degree             Sales & Related  $75000 - $87499  never   \n",
       "\n",
       "      CoffeeHouse CarryAway RestaurantLessThan20 Restaurant20To50  \\\n",
       "22          less1       4~8                  4~8            less1   \n",
       "23          less1       4~8                  4~8            less1   \n",
       "...           ...       ...                  ...              ...   \n",
       "12682       never       1~3                  4~8              1~3   \n",
       "12683       never       1~3                  4~8              1~3   \n",
       "\n",
       "       toCoupon_GEQ5min  toCoupon_GEQ15min  toCoupon_GEQ25min  direction_same  \\\n",
       "22                    1                  0                  0               0   \n",
       "23                    1                  0                  0               0   \n",
       "...                 ...                ...                ...             ...   \n",
       "12682                 1                  1                  1               0   \n",
       "12683                 1                  0                  0               1   \n",
       "\n",
       "       direction_opp  Y  income_min  \n",
       "22                 1  1       62500  \n",
       "23                 1  0       62500  \n",
       "...              ... ..         ...  \n",
       "12682              1  0       75000  \n",
       "12683              0  0       75000  \n",
       "\n",
       "[12079 rows x 26 columns]"
      ]
     },
     "execution_count": 12,
     "metadata": {},
     "output_type": "execute_result"
    }
   ],
   "source": [
    "#Cleaning 'income' column to numeric value of lower bound\n",
    "data['income_min'] = data['income'].str.replace('$', '').str.split(' - ').str[0]\n",
    "data['income_min'] = data['income_min'].str.replace(' or More', '')\n",
    "data['income_min'] = data['income_min'].str.replace('Less than 12500', '0').astype(int)\n",
    "\n",
    "#Cleaning 'age' column to integers. 'below21' is changed to '16' \n",
    "data['age'] = data['age'].str.replace('plus', '')\n",
    "data['age'] = data['age'].str.replace('below21', '16').astype(int)\n",
    "\n",
    "#Cleaning 'time' column to 24 hour integer\n",
    "old = {'7AM', '10AM', '2PM', '6PM', '10PM'}\n",
    "new = {7, 10, 14, 18, 22}\n",
    "replacements = {\"7AM\": 7, \"10AM\": 10, \"2PM\": 14, \"6PM\": 18, \"10PM\": 22}\n",
    "\n",
    "for old, new in replacements.items():\n",
    "    data = data.replace(old, new)\n",
    "\n",
    "\n",
    "data"
   ]
  },
  {
   "cell_type": "markdown",
   "metadata": {
    "id": "YE6oJbXd_qRI"
   },
   "source": [
    "4. What proportion of the total observations chose to accept the coupon?\n",
    "\n"
   ]
  },
  {
   "cell_type": "code",
   "execution_count": 14,
   "metadata": {
    "id": "86GGqBTv_qRI"
   },
   "outputs": [
    {
     "data": {
      "text/plain": [
       "0.5693352098683666"
      ]
     },
     "execution_count": 14,
     "metadata": {},
     "output_type": "execute_result"
    }
   ],
   "source": [
    "#Using iloc[] to divide count of 'destination' for Y=1 by the count of all values. Since every data point has a destination,\n",
    "#iloc[1,0] works out to be the count of coupons accepted\n",
    "accepted = data.groupby('Y').agg('count').iloc[1,0]\n",
    "total = data['destination'].count()\n",
    "accepted_proportion = accepted / total\n",
    "accepted_proportion"
   ]
  },
  {
   "cell_type": "markdown",
   "metadata": {
    "id": "vflz0DoE_qRI"
   },
   "source": [
    "5. Use a bar plot to visualize the `coupon` column."
   ]
  },
  {
   "cell_type": "code",
   "execution_count": 16,
   "metadata": {
    "id": "dHFh3E45_qRI"
   },
   "outputs": [
    {
     "data": {
      "text/plain": [
       "<matplotlib.legend.Legend at 0x26272ed2630>"
      ]
     },
     "execution_count": 16,
     "metadata": {},
     "output_type": "execute_result"
    },
    {
     "data": {
      "image/png": "[encoded data removed]",
      "text/plain": [
       "<Figure size 640x480 with 1 Axes>"
      ]
     },
     "metadata": {},
     "output_type": "display_data"
    }
   ],
   "source": [
    "coupons = data.groupby(['coupon', 'Y']).agg('count')\n",
    "coupons['count'] = coupons['destination']\n",
    "barplot = sns.barplot(coupons, x='coupon', y='count', hue='Y')\n",
    "\n",
    "labels = ['Bar', 'Carry out & Take away', 'Coffee House', 'Restaurant(20-50)', 'Restaurant(<20)']\n",
    "barplot.set_xticks(labels)\n",
    "barplot.set_xticklabels(labels, rotation=45)\n",
    "barplot.legend(ncols=2)\n",
    "plt.savefig('images/Coupon Histogram.png')"
   ]
  },
  {
   "cell_type": "markdown",
   "metadata": {
    "id": "Qw4lCyx2_qRI"
   },
   "source": [
    "6. Use a histogram to visualize the temperature column."
   ]
  },
  {
   "cell_type": "code",
   "execution_count": 18,
   "metadata": {
    "id": "Yg9Anv71_qRI"
   },
   "outputs": [
    {
     "data": {
      "text/plain": [
       "<Axes: xlabel='temperature', ylabel='Count'>"
      ]
     },
     "execution_count": 18,
     "metadata": {},
     "output_type": "execute_result"
    },
    {
     "data": {
      "image/png": "[encoded data removed]",
      "text/plain": [
       "<Figure size 640x480 with 1 Axes>"
      ]
     },
     "metadata": {},
     "output_type": "display_data"
    }
   ],
   "source": [
    "sns.histplot(data=data, x='temperature', hue='Y')"
   ]
  },
  {
   "cell_type": "code",
   "execution_count": null,
   "metadata": {
    "id": "7GBHZKBp_qRJ"
   },
   "outputs": [],
   "source": []
  },
  {
   "cell_type": "code",
   "execution_count": null,
   "metadata": {
    "id": "Y5nBUA-j_qRJ"
   },
   "outputs": [],
   "source": []
  },
  {
   "cell_type": "code",
   "execution_count": null,
   "metadata": {
    "id": "ShcUC-Vm_qRJ"
   },
   "outputs": [],
   "source": []
  },
  {
   "cell_type": "markdown",
   "metadata": {
    "id": "FupfgeJk_qRJ"
   },
   "source": [
    "**Investigating the Bar Coupons**\n",
    "\n",
    "Now, we will lead you through an exploration of just the bar related coupons.  \n",
    "\n",
    "1. Create a new `DataFrame` that contains just the bar coupons.\n"
   ]
  },
  {
   "cell_type": "code",
   "execution_count": 20,
   "metadata": {
    "id": "tMBlWuGq_qRJ"
   },
   "outputs": [
    {
     "data": {
      "text/plain": [
       "destination    1913\n",
       "passanger      1913\n",
       "               ... \n",
       "Y              1913\n",
       "income_min     1913\n",
       "Length: 26, dtype: int64"
      ]
     },
     "execution_count": 20,
     "metadata": {},
     "output_type": "execute_result"
    }
   ],
   "source": [
    "bar = data.query('coupon == \"Bar\"')\n",
    "bar.count()"
   ]
  },
  {
   "cell_type": "markdown",
   "metadata": {
    "id": "8ue6uCqf_qRJ"
   },
   "source": [
    "2. What proportion of bar coupons were accepted?\n"
   ]
  },
  {
   "cell_type": "code",
   "execution_count": 22,
   "metadata": {
    "id": "hSdte8Mi_qRK"
   },
   "outputs": [
    {
     "data": {
      "text/plain": [
       "0.41191845269210664"
      ]
     },
     "execution_count": 22,
     "metadata": {},
     "output_type": "execute_result"
    }
   ],
   "source": [
    "#Using iloc[] to divide count of 'destination' for Y=1 by the count for Y=0.\n",
    "bar_accepted = bar.groupby('Y').agg('count').iloc[1,0]\n",
    "bar_total = bar['destination'].count()\n",
    "bar_acceptance = bar_accepted / bar_total\n",
    "bar_acceptance"
   ]
  },
  {
   "cell_type": "markdown",
   "metadata": {
    "id": "85nA_iEi_qRK"
   },
   "source": [
    "3. Compare the acceptance rate between those who went to a bar 3 or fewer times a month to those who went more.\n"
   ]
  },
  {
   "cell_type": "code",
   "execution_count": 24,
   "metadata": {
    "id": "LBOrN-XM_qRK"
   },
   "outputs": [],
   "source": [
    "#Grouping by bar visits/month and acceptance\n",
    "bar_Y_index = bar.groupby(['Bar', 'Y']).agg('count')\n",
    "\n",
    "#Creating data frames for each group (<3 visits Y/N, and >3 visits Y/N)\n",
    "three_fewer_y = bar_Y_index.query('Y == 1 and (Bar == \"1~3\" | Bar == \"less1\" | Bar == \"never\")')\n",
    "three_fewer_total = bar_Y_index.query('(Bar == \"1~3\" | Bar == \"less1\" | Bar == \"never\")')\n",
    "three_plus_y = bar_Y_index.query('Y == 1 and (Bar == \"4-8\" | Bar == \"gt8\")')\n",
    "three_plus_total = bar_Y_index.query('(Bar == \"4-8\" | Bar == \"gt8\")')\n",
    "\n",
    "#Calculating acceptance rate for <3 visits and >3 visits\n",
    "three_fewer_acceptance = three_fewer_y['destination'].agg('sum') / three_fewer_total['destination'].agg('sum')\n",
    "three_plus_acceptance = three_plus_y['destination'].agg('sum') / three_plus_total['destination'].agg('sum')"
   ]
  },
  {
   "cell_type": "code",
   "execution_count": 25,
   "metadata": {},
   "outputs": [
    {
     "data": {
      "text/html": [
       "<div>\n",
       "<style scoped>\n",
       "    .dataframe tbody tr th:only-of-type {\n",
       "        vertical-align: middle;\n",
       "    }\n",
       "\n",
       "    .dataframe tbody tr th {\n",
       "        vertical-align: top;\n",
       "    }\n",
       "\n",
       "    .dataframe thead th {\n",
       "        text-align: right;\n",
       "    }\n",
       "</style>\n",
       "<table border=\"1\" class=\"dataframe\">\n",
       "  <thead>\n",
       "    <tr style=\"text-align: right;\">\n",
       "      <th></th>\n",
       "      <th>Overall</th>\n",
       "      <th>&lt;3 Visits</th>\n",
       "      <th>&gt;3 Visits</th>\n",
       "    </tr>\n",
       "  </thead>\n",
       "  <tbody>\n",
       "    <tr>\n",
       "      <th>0</th>\n",
       "      <td>0.411918</td>\n",
       "      <td>0.372674</td>\n",
       "      <td>0.717391</td>\n",
       "    </tr>\n",
       "  </tbody>\n",
       "</table>\n",
       "</div>"
      ],
      "text/plain": [
       "    Overall  <3 Visits  >3 Visits\n",
       "0  0.411918   0.372674   0.717391"
      ]
     },
     "execution_count": 25,
     "metadata": {},
     "output_type": "execute_result"
    }
   ],
   "source": [
    "#Creating dataframe to track output of each question\n",
    "bar_acceptance = pd.DataFrame({'Overall': [bar_acceptance], '<3 Visits': [three_fewer_acceptance], '>3 Visits': [three_plus_acceptance]})\n",
    "bar_acceptance"
   ]
  },
  {
   "cell_type": "markdown",
   "metadata": {
    "id": "RBgcQwH4_qRK"
   },
   "source": [
    "4. Compare the acceptance rate between drivers who go to a bar more than once a month and are over the age of 25 to the all others.  Is there a difference?\n"
   ]
  },
  {
   "cell_type": "code",
   "execution_count": 27,
   "metadata": {
    "id": "bf28bbeX_qRK"
   },
   "outputs": [
    {
     "data": {
      "text/html": [
       "<div>\n",
       "<style scoped>\n",
       "    .dataframe tbody tr th:only-of-type {\n",
       "        vertical-align: middle;\n",
       "    }\n",
       "\n",
       "    .dataframe tbody tr th {\n",
       "        vertical-align: top;\n",
       "    }\n",
       "\n",
       "    .dataframe thead th {\n",
       "        text-align: right;\n",
       "    }\n",
       "</style>\n",
       "<table border=\"1\" class=\"dataframe\">\n",
       "  <thead>\n",
       "    <tr style=\"text-align: right;\">\n",
       "      <th></th>\n",
       "      <th>Overall</th>\n",
       "      <th>&lt;3 Visits</th>\n",
       "      <th>&gt;3 Visits</th>\n",
       "      <th>Age 25+, &gt;1 Visit</th>\n",
       "    </tr>\n",
       "  </thead>\n",
       "  <tbody>\n",
       "    <tr>\n",
       "      <th>0</th>\n",
       "      <td>0.411918</td>\n",
       "      <td>0.372674</td>\n",
       "      <td>0.717391</td>\n",
       "      <td>0.689826</td>\n",
       "    </tr>\n",
       "  </tbody>\n",
       "</table>\n",
       "</div>"
      ],
      "text/plain": [
       "    Overall  <3 Visits  >3 Visits  Age 25+, >1 Visit\n",
       "0  0.411918   0.372674   0.717391           0.689826"
      ]
     },
     "execution_count": 27,
     "metadata": {},
     "output_type": "execute_result"
    }
   ],
   "source": [
    "#Grouping by bar visits/month, age, and acceptance\n",
    "bar_Y_age_index = bar.groupby(['Bar', 'age', 'Y']).agg('count')\n",
    "\n",
    "#Creating two dataframes for accepted and not accepted\n",
    "# bar_accepted = bar_Y_age_index.query('Y == 1')\n",
    "# bar_declined = bar_Y_age_index.query('Y == 0')\n",
    "\n",
    "#Querying on age >25 and more than 1 bar visit for accepted and declined\n",
    "bar_gr1_age_gr25_y = bar_Y_age_index.query('Y == 1 and (Bar == \"1~3\" | Bar == \"4~8\" | Bar == \"gt8\") and age > 25')\n",
    "bar_gr1_age_gr25_total = bar_Y_age_index.query('(Bar == \"1~3\" | Bar == \"4~8\" | Bar == \"gt8\") and age > 25')\n",
    "\n",
    "#Calculating acceptance rate for above conditions (abbrevieated to bar_4 for question 4)\n",
    "bar_4_accepted = bar_gr1_age_gr25_y['destination'].agg('sum') / bar_gr1_age_gr25_total['destination'].agg('sum')\n",
    "\n",
    "#Adding values to bar_acceptance dataframe\n",
    "bar_acceptance['Age 25+, >1 Visit'] = [bar_4_accepted]\n",
    "bar_acceptance"
   ]
  },
  {
   "cell_type": "markdown",
   "metadata": {
    "id": "S4RKT4PJ_qRK"
   },
   "source": [
    "5. Use the same process to compare the acceptance rate between drivers who go to bars more than once a month and had passengers that were not a kid and had occupations other than farming, fishing, or forestry.\n"
   ]
  },
  {
   "cell_type": "code",
   "execution_count": 29,
   "metadata": {
    "id": "sENaI2Tg_qRK"
   },
   "outputs": [
    {
     "data": {
      "text/html": [
       "<div>\n",
       "<style scoped>\n",
       "    .dataframe tbody tr th:only-of-type {\n",
       "        vertical-align: middle;\n",
       "    }\n",
       "\n",
       "    .dataframe tbody tr th {\n",
       "        vertical-align: top;\n",
       "    }\n",
       "\n",
       "    .dataframe thead th {\n",
       "        text-align: right;\n",
       "    }\n",
       "</style>\n",
       "<table border=\"1\" class=\"dataframe\">\n",
       "  <thead>\n",
       "    <tr style=\"text-align: right;\">\n",
       "      <th></th>\n",
       "      <th>Overall</th>\n",
       "      <th>&lt;3 Visits</th>\n",
       "      <th>&gt;3 Visits</th>\n",
       "      <th>Age 25+, &gt;1 Visit</th>\n",
       "      <th>&gt;1 Visit, no Kids, no \"f\" occupation</th>\n",
       "    </tr>\n",
       "  </thead>\n",
       "  <tbody>\n",
       "    <tr>\n",
       "      <th>0</th>\n",
       "      <td>0.411918</td>\n",
       "      <td>0.372674</td>\n",
       "      <td>0.717391</td>\n",
       "      <td>0.689826</td>\n",
       "      <td>0.43491</td>\n",
       "    </tr>\n",
       "  </tbody>\n",
       "</table>\n",
       "</div>"
      ],
      "text/plain": [
       "    Overall  <3 Visits  >3 Visits  Age 25+, >1 Visit  \\\n",
       "0  0.411918   0.372674   0.717391           0.689826   \n",
       "\n",
       "   >1 Visit, no Kids, no \"f\" occupation  \n",
       "0                               0.43491  "
      ]
     },
     "execution_count": 29,
     "metadata": {},
     "output_type": "execute_result"
    }
   ],
   "source": [
    "#Grouping by bar visits/month, passanger, occupation, and acceptance\n",
    "bar_5 = bar.groupby(['Bar', 'passanger', 'occupation', 'Y']).agg('count')\n",
    "\n",
    "#Querying on above conditions for accepted and declined\n",
    "bar_5_no_kids_occupation_y = bar_5.query('Y == 1 and (Bar != \"never\" | Bar != \"less1\") and occupation != \"Farming Fishing & Forestry\" and passanger != \"Kid(s)\"')\n",
    "bar_5_no_kids_occupation_total = bar_5.query('(Bar != \"never\" | Bar != \"less1\") and occupation != \"Farming Fishing & Forestry\" and passanger != \"Kid(s)\"')\n",
    "\n",
    "#Calculating acceptance rate for above conditions\n",
    "bar_5_acceptance = bar_5_no_kids_occupation_y['destination'].agg('sum') / bar_5_no_kids_occupation_total['destination'].agg('sum')\n",
    "\n",
    "#Adding values to bar_acceptance dataframe\n",
    "bar_acceptance['>1 Visit, no Kids, no \"f\" occupation'] = [bar_5_acceptance]\n",
    "bar_acceptance"
   ]
  },
  {
   "cell_type": "markdown",
   "metadata": {
    "id": "n2LIUTil_qRK"
   },
   "source": [
    "6. Compare the acceptance rates between those drivers who:\n",
    "\n",
    "- go to bars more than once a month, had passengers that were not a kid, and were not widowed *OR*\n",
    "- go to bars more than once a month and are under the age of 30 *OR*\n",
    "- go to cheap restaurants more than 4 times a month and income is less than 50K.\n",
    "\n"
   ]
  },
  {
   "cell_type": "code",
   "execution_count": 31,
   "metadata": {
    "id": "aK_wEzx7_qRK"
   },
   "outputs": [
    {
     "data": {
      "text/html": [
       "<div>\n",
       "<style scoped>\n",
       "    .dataframe tbody tr th:only-of-type {\n",
       "        vertical-align: middle;\n",
       "    }\n",
       "\n",
       "    .dataframe tbody tr th {\n",
       "        vertical-align: top;\n",
       "    }\n",
       "\n",
       "    .dataframe thead th {\n",
       "        text-align: right;\n",
       "    }\n",
       "</style>\n",
       "<table border=\"1\" class=\"dataframe\">\n",
       "  <thead>\n",
       "    <tr style=\"text-align: right;\">\n",
       "      <th></th>\n",
       "      <th>Overall</th>\n",
       "      <th>&lt;3 Visits</th>\n",
       "      <th>&gt;3 Visits</th>\n",
       "      <th>Age 25+, &gt;1 Visit</th>\n",
       "      <th>&gt;1 Visit, no Kids, no \"f\" occupation</th>\n",
       "      <th>&gt;1 Visit, no Kids, not Widowed</th>\n",
       "      <th>&gt;1 Visit, age &lt;30</th>\n",
       "      <th>Cheap Restaurants &gt;4, Income &lt;50k</th>\n",
       "    </tr>\n",
       "  </thead>\n",
       "  <tbody>\n",
       "    <tr>\n",
       "      <th>0</th>\n",
       "      <td>0.411918</td>\n",
       "      <td>0.372674</td>\n",
       "      <td>0.717391</td>\n",
       "      <td>0.689826</td>\n",
       "      <td>0.43491</td>\n",
       "      <td>0.43537</td>\n",
       "      <td>0.48818</td>\n",
       "      <td>0.144414</td>\n",
       "    </tr>\n",
       "  </tbody>\n",
       "</table>\n",
       "</div>"
      ],
      "text/plain": [
       "    Overall  <3 Visits  >3 Visits  Age 25+, >1 Visit  \\\n",
       "0  0.411918   0.372674   0.717391           0.689826   \n",
       "\n",
       "   >1 Visit, no Kids, no \"f\" occupation  >1 Visit, no Kids, not Widowed  \\\n",
       "0                               0.43491                         0.43537   \n",
       "\n",
       "   >1 Visit, age <30  Cheap Restaurants >4, Income <50k  \n",
       "0            0.48818                           0.144414  "
      ]
     },
     "execution_count": 31,
     "metadata": {},
     "output_type": "execute_result"
    }
   ],
   "source": [
    "#6-1\n",
    "#Grouping by bar visits/month, passanger, marital status, and acceptance\n",
    "bar_6_1 = bar.groupby(['Bar', 'passanger', 'maritalStatus', 'Y']).agg('count')\n",
    "\n",
    "#Querying on above conditions for accepted and declined\n",
    "bar_6_1_widowed_y = bar_6_1.query('Y == 1 and (Bar != \"never\" | Bar != \"less1\") and maritalStatus != \"Widowed\" and passanger != \"Kid(s)\"')\n",
    "bar_6_1_widowed_total = bar_6_1.query('(Bar != \"never\" | Bar != \"less1\") and maritalStatus != \"Widowed\" and passanger != \"Kid(s)\"')\n",
    "\n",
    "#Calculating acceptance rate for above conditions\n",
    "bar_6_1_acceptance = bar_6_1_widowed_y['destination'].agg('sum') / bar_6_1_widowed_total['destination'].agg('sum')\n",
    "\n",
    "#Adding values to bar_acceptance dataframe\n",
    "bar_acceptance['>1 Visit, no Kids, not Widowed'] = [bar_6_1_acceptance]\n",
    "\n",
    "\n",
    "\n",
    "#6-2\n",
    "#Grouping by bar visits/month, age, and acceptance\n",
    "bar_6_2 = bar.groupby(['Bar', 'age', 'Y']).agg('count')\n",
    "\n",
    "#Querying on above conditions for accepted and declined\n",
    "bar_6_2_widowed_y = bar_6_2.query('Y == 1 and (Bar != \"never\" | Bar != \"less1\") and age < 30')\n",
    "bar_6_2_widowed_total = bar_6_2.query('(Bar != \"never\" | Bar != \"less1\") and age < 30')\n",
    "\n",
    "#Calculating acceptance rate for above conditions\n",
    "bar_6_2_acceptance = bar_6_2_widowed_y['destination'].agg('sum') / bar_6_2_widowed_total['destination'].agg('sum')\n",
    "\n",
    "#Adding values to bar_acceptance dataframe\n",
    "bar_acceptance['>1 Visit, age <30'] = [bar_6_2_acceptance]\n",
    "\n",
    "\n",
    "\n",
    "#6_3\n",
    "#Grouping by bar visits/month, age, and acceptance\n",
    "bar_6_3 = bar.groupby(['RestaurantLessThan20', 'income_min', 'Y']).agg('count')\n",
    "\n",
    "#Creating list of restaurant frequencies to include\n",
    "list_of_restaurant_frequencies = ['4~8', 'gt8']\n",
    "\n",
    "#Querying for above conditions for accepted and declined\n",
    "bar_6_3_y = bar_6_3.query('RestaurantLessThan20 in @list_of_restaurant_frequencies and income_min < 37500  and Y == 1')\n",
    "bar_6_3_total = bar_6_3.query('RestaurantLessThan20 in @list_of_restaurant_frequencies')\n",
    "\n",
    "#Calculating acceptance rate for above conditions\n",
    "bar_6_3_acceptance = bar_6_3_y['destination'].agg('sum') / bar_6_3_total['destination'].agg('sum')\n",
    "\n",
    "#Adding values to bar_acceptance dataframe\n",
    "bar_acceptance['Cheap Restaurants >4, Income <50k'] = [bar_6_3_acceptance]\n",
    "bar_acceptance"
   ]
  },
  {
   "cell_type": "markdown",
   "metadata": {
    "id": "v3fL3QkO_qRK"
   },
   "source": [
    "7.  Based on these observations, what do you hypothesize about drivers who accepted the bar coupons?"
   ]
  },
  {
   "cell_type": "markdown",
   "metadata": {
    "id": "Y48naDFh_qRL"
   },
   "source": [
    "7. **Hypothesis:** Based on the above analysis, the acceptance rate for coupons increases as a person's monthly bar visits increase. People who visit more than once a month and have no kids tend to accept the coupon at the same rate as the overall population, so they are not good indicators. The most significant factors from this analysis are the frequency of eating at cheap restaurants, and income. People with lower income and more frequent cheap restaurant visits are the least likely to accept the coupon.\n",
    "\n",
    "   My hypothesis is that people with more disposable income are more likely to go to a bar frequently over a month. This causes them to be more likely to accept a coupon, since they would likely visit the bar anyway. In contrast, people with less disposable income are less likely to visit bars, and as such, are less likely to accept a bar coupon in the first place."
   ]
  },
  {
   "cell_type": "markdown",
   "metadata": {
    "id": "r4Hu1zOb_qRL"
   },
   "source": [
    "### Independent Investigation\n",
    "\n",
    "Using the bar coupon example as motivation, you are to explore one of the other coupon groups and try to determine the characteristics of passengers who accept the coupons.  "
   ]
  },
  {
   "cell_type": "markdown",
   "metadata": {
    "id": "0c71cQhu_qRL"
   },
   "source": [
    "## Carryout Data\n",
    "\n",
    "Similar to the bar coupon example above, in the below section, the dataset for 'Carry out & Take away' coupons is investigated"
   ]
  },
  {
   "cell_type": "code",
   "execution_count": 36,
   "metadata": {
    "id": "QEsBkvIN_qRL"
   },
   "outputs": [
    {
     "data": {
      "text/html": [
       "<div>\n",
       "<style scoped>\n",
       "    .dataframe tbody tr th:only-of-type {\n",
       "        vertical-align: middle;\n",
       "    }\n",
       "\n",
       "    .dataframe tbody tr th {\n",
       "        vertical-align: top;\n",
       "    }\n",
       "\n",
       "    .dataframe thead th {\n",
       "        text-align: right;\n",
       "    }\n",
       "</style>\n",
       "<table border=\"1\" class=\"dataframe\">\n",
       "  <thead>\n",
       "    <tr style=\"text-align: right;\">\n",
       "      <th></th>\n",
       "      <th>destination</th>\n",
       "      <th>passanger</th>\n",
       "      <th>weather</th>\n",
       "      <th>temperature</th>\n",
       "      <th>time</th>\n",
       "      <th>coupon</th>\n",
       "      <th>expiration</th>\n",
       "      <th>gender</th>\n",
       "      <th>age</th>\n",
       "      <th>maritalStatus</th>\n",
       "      <th>has_children</th>\n",
       "      <th>education</th>\n",
       "      <th>occupation</th>\n",
       "      <th>income</th>\n",
       "      <th>Bar</th>\n",
       "      <th>CoffeeHouse</th>\n",
       "      <th>CarryAway</th>\n",
       "      <th>RestaurantLessThan20</th>\n",
       "      <th>Restaurant20To50</th>\n",
       "      <th>toCoupon_GEQ5min</th>\n",
       "      <th>toCoupon_GEQ15min</th>\n",
       "      <th>toCoupon_GEQ25min</th>\n",
       "      <th>direction_same</th>\n",
       "      <th>direction_opp</th>\n",
       "      <th>Y</th>\n",
       "      <th>income_min</th>\n",
       "    </tr>\n",
       "  </thead>\n",
       "  <tbody>\n",
       "    <tr>\n",
       "      <th>25</th>\n",
       "      <td>No Urgent Place</td>\n",
       "      <td>Friend(s)</td>\n",
       "      <td>Sunny</td>\n",
       "      <td>80</td>\n",
       "      <td>10</td>\n",
       "      <td>Carry out &amp; Take away</td>\n",
       "      <td>2h</td>\n",
       "      <td>Male</td>\n",
       "      <td>21</td>\n",
       "      <td>Single</td>\n",
       "      <td>0</td>\n",
       "      <td>Bachelors degree</td>\n",
       "      <td>Architecture &amp; Engineering</td>\n",
       "      <td>$62500 - $74999</td>\n",
       "      <td>never</td>\n",
       "      <td>less1</td>\n",
       "      <td>4~8</td>\n",
       "      <td>4~8</td>\n",
       "      <td>less1</td>\n",
       "      <td>1</td>\n",
       "      <td>1</td>\n",
       "      <td>0</td>\n",
       "      <td>0</td>\n",
       "      <td>1</td>\n",
       "      <td>0</td>\n",
       "      <td>62500</td>\n",
       "    </tr>\n",
       "    <tr>\n",
       "      <th>33</th>\n",
       "      <td>No Urgent Place</td>\n",
       "      <td>Friend(s)</td>\n",
       "      <td>Sunny</td>\n",
       "      <td>55</td>\n",
       "      <td>14</td>\n",
       "      <td>Carry out &amp; Take away</td>\n",
       "      <td>1d</td>\n",
       "      <td>Male</td>\n",
       "      <td>21</td>\n",
       "      <td>Single</td>\n",
       "      <td>0</td>\n",
       "      <td>Bachelors degree</td>\n",
       "      <td>Architecture &amp; Engineering</td>\n",
       "      <td>$62500 - $74999</td>\n",
       "      <td>never</td>\n",
       "      <td>less1</td>\n",
       "      <td>4~8</td>\n",
       "      <td>4~8</td>\n",
       "      <td>less1</td>\n",
       "      <td>1</td>\n",
       "      <td>1</td>\n",
       "      <td>0</td>\n",
       "      <td>0</td>\n",
       "      <td>1</td>\n",
       "      <td>1</td>\n",
       "      <td>62500</td>\n",
       "    </tr>\n",
       "    <tr>\n",
       "      <th>...</th>\n",
       "      <td>...</td>\n",
       "      <td>...</td>\n",
       "      <td>...</td>\n",
       "      <td>...</td>\n",
       "      <td>...</td>\n",
       "      <td>...</td>\n",
       "      <td>...</td>\n",
       "      <td>...</td>\n",
       "      <td>...</td>\n",
       "      <td>...</td>\n",
       "      <td>...</td>\n",
       "      <td>...</td>\n",
       "      <td>...</td>\n",
       "      <td>...</td>\n",
       "      <td>...</td>\n",
       "      <td>...</td>\n",
       "      <td>...</td>\n",
       "      <td>...</td>\n",
       "      <td>...</td>\n",
       "      <td>...</td>\n",
       "      <td>...</td>\n",
       "      <td>...</td>\n",
       "      <td>...</td>\n",
       "      <td>...</td>\n",
       "      <td>...</td>\n",
       "      <td>...</td>\n",
       "    </tr>\n",
       "    <tr>\n",
       "      <th>12679</th>\n",
       "      <td>Home</td>\n",
       "      <td>Partner</td>\n",
       "      <td>Rainy</td>\n",
       "      <td>55</td>\n",
       "      <td>18</td>\n",
       "      <td>Carry out &amp; Take away</td>\n",
       "      <td>1d</td>\n",
       "      <td>Male</td>\n",
       "      <td>26</td>\n",
       "      <td>Single</td>\n",
       "      <td>0</td>\n",
       "      <td>Bachelors degree</td>\n",
       "      <td>Sales &amp; Related</td>\n",
       "      <td>$75000 - $87499</td>\n",
       "      <td>never</td>\n",
       "      <td>never</td>\n",
       "      <td>1~3</td>\n",
       "      <td>4~8</td>\n",
       "      <td>1~3</td>\n",
       "      <td>1</td>\n",
       "      <td>0</td>\n",
       "      <td>0</td>\n",
       "      <td>1</td>\n",
       "      <td>0</td>\n",
       "      <td>1</td>\n",
       "      <td>75000</td>\n",
       "    </tr>\n",
       "    <tr>\n",
       "      <th>12680</th>\n",
       "      <td>Work</td>\n",
       "      <td>Alone</td>\n",
       "      <td>Rainy</td>\n",
       "      <td>55</td>\n",
       "      <td>7</td>\n",
       "      <td>Carry out &amp; Take away</td>\n",
       "      <td>1d</td>\n",
       "      <td>Male</td>\n",
       "      <td>26</td>\n",
       "      <td>Single</td>\n",
       "      <td>0</td>\n",
       "      <td>Bachelors degree</td>\n",
       "      <td>Sales &amp; Related</td>\n",
       "      <td>$75000 - $87499</td>\n",
       "      <td>never</td>\n",
       "      <td>never</td>\n",
       "      <td>1~3</td>\n",
       "      <td>4~8</td>\n",
       "      <td>1~3</td>\n",
       "      <td>1</td>\n",
       "      <td>0</td>\n",
       "      <td>0</td>\n",
       "      <td>0</td>\n",
       "      <td>1</td>\n",
       "      <td>1</td>\n",
       "      <td>75000</td>\n",
       "    </tr>\n",
       "  </tbody>\n",
       "</table>\n",
       "<p>2280 rows × 26 columns</p>\n",
       "</div>"
      ],
      "text/plain": [
       "           destination  passanger weather  temperature  time  \\\n",
       "25     No Urgent Place  Friend(s)   Sunny           80    10   \n",
       "33     No Urgent Place  Friend(s)   Sunny           55    14   \n",
       "...                ...        ...     ...          ...   ...   \n",
       "12679             Home    Partner   Rainy           55    18   \n",
       "12680             Work      Alone   Rainy           55     7   \n",
       "\n",
       "                      coupon expiration gender  age maritalStatus  \\\n",
       "25     Carry out & Take away         2h   Male   21        Single   \n",
       "33     Carry out & Take away         1d   Male   21        Single   \n",
       "...                      ...        ...    ...  ...           ...   \n",
       "12679  Carry out & Take away         1d   Male   26        Single   \n",
       "12680  Carry out & Take away         1d   Male   26        Single   \n",
       "\n",
       "       has_children         education                  occupation  \\\n",
       "25                0  Bachelors degree  Architecture & Engineering   \n",
       "33                0  Bachelors degree  Architecture & Engineering   \n",
       "...             ...               ...                         ...   \n",
       "12679             0  Bachelors degree             Sales & Related   \n",
       "12680             0  Bachelors degree             Sales & Related   \n",
       "\n",
       "                income    Bar CoffeeHouse CarryAway RestaurantLessThan20  \\\n",
       "25     $62500 - $74999  never       less1       4~8                  4~8   \n",
       "33     $62500 - $74999  never       less1       4~8                  4~8   \n",
       "...                ...    ...         ...       ...                  ...   \n",
       "12679  $75000 - $87499  never       never       1~3                  4~8   \n",
       "12680  $75000 - $87499  never       never       1~3                  4~8   \n",
       "\n",
       "      Restaurant20To50  toCoupon_GEQ5min  toCoupon_GEQ15min  \\\n",
       "25               less1                 1                  1   \n",
       "33               less1                 1                  1   \n",
       "...                ...               ...                ...   \n",
       "12679              1~3                 1                  0   \n",
       "12680              1~3                 1                  0   \n",
       "\n",
       "       toCoupon_GEQ25min  direction_same  direction_opp  Y  income_min  \n",
       "25                     0               0              1  0       62500  \n",
       "33                     0               0              1  1       62500  \n",
       "...                  ...             ...            ... ..         ...  \n",
       "12679                  0               1              0  1       75000  \n",
       "12680                  0               0              1  1       75000  \n",
       "\n",
       "[2280 rows x 26 columns]"
      ]
     },
     "execution_count": 36,
     "metadata": {},
     "output_type": "execute_result"
    }
   ],
   "source": [
    "carryout = data.query('coupon == \"Carry out & Take away\"')\n",
    "carryout"
   ]
  },
  {
   "cell_type": "code",
   "execution_count": 124,
   "metadata": {},
   "outputs": [
    {
     "data": {
      "text/html": [
       "<div>\n",
       "<style scoped>\n",
       "    .dataframe tbody tr th:only-of-type {\n",
       "        vertical-align: middle;\n",
       "    }\n",
       "\n",
       "    .dataframe tbody tr th {\n",
       "        vertical-align: top;\n",
       "    }\n",
       "\n",
       "    .dataframe thead th {\n",
       "        text-align: right;\n",
       "    }\n",
       "</style>\n",
       "<table border=\"1\" class=\"dataframe\">\n",
       "  <thead>\n",
       "    <tr style=\"text-align: right;\">\n",
       "      <th></th>\n",
       "      <th>Overall</th>\n",
       "    </tr>\n",
       "  </thead>\n",
       "  <tbody>\n",
       "    <tr>\n",
       "      <th>0</th>\n",
       "      <td>0.737719</td>\n",
       "    </tr>\n",
       "  </tbody>\n",
       "</table>\n",
       "</div>"
      ],
      "text/plain": [
       "    Overall\n",
       "0  0.737719"
      ]
     },
     "execution_count": 124,
     "metadata": {},
     "output_type": "execute_result"
    }
   ],
   "source": [
    "carryout_accepted_rate = (carryout.groupby('Y').agg('count').iloc[1,0]) / carryout['destination'].count()\n",
    "carryout_acceptance = pd.DataFrame({'Overall': [carryout_accepted_rate]})\n",
    "carryout_acceptance"
   ]
  },
  {
   "cell_type": "code",
   "execution_count": 126,
   "metadata": {
    "id": "RrqUWn7d_qRL"
   },
   "outputs": [
    {
     "data": {
      "text/plain": [
       "<Axes: xlabel='time', ylabel='Count'>"
      ]
     },
     "execution_count": 126,
     "metadata": {},
     "output_type": "execute_result"
    },
    {
     "data": {
      "image/png": "[encoded data removed]",
      "text/plain": [
       "<Figure size 640x480 with 1 Axes>"
      ]
     },
     "metadata": {},
     "output_type": "display_data"
    }
   ],
   "source": [
    "sns.histplot(data=carryout, x='time', hue='Y')"
   ]
  },
  {
   "cell_type": "code",
   "execution_count": 128,
   "metadata": {
    "id": "fTC2WGE3_qRL"
   },
   "outputs": [
    {
     "data": {
      "text/html": [
       "<div>\n",
       "<style scoped>\n",
       "    .dataframe tbody tr th:only-of-type {\n",
       "        vertical-align: middle;\n",
       "    }\n",
       "\n",
       "    .dataframe tbody tr th {\n",
       "        vertical-align: top;\n",
       "    }\n",
       "\n",
       "    .dataframe thead th {\n",
       "        text-align: right;\n",
       "    }\n",
       "</style>\n",
       "<table border=\"1\" class=\"dataframe\">\n",
       "  <thead>\n",
       "    <tr style=\"text-align: right;\">\n",
       "      <th></th>\n",
       "      <th></th>\n",
       "      <th></th>\n",
       "      <th>destination</th>\n",
       "      <th>passanger</th>\n",
       "      <th>weather</th>\n",
       "      <th>temperature</th>\n",
       "      <th>coupon</th>\n",
       "      <th>expiration</th>\n",
       "      <th>gender</th>\n",
       "      <th>age</th>\n",
       "      <th>maritalStatus</th>\n",
       "      <th>has_children</th>\n",
       "      <th>education</th>\n",
       "      <th>occupation</th>\n",
       "      <th>income</th>\n",
       "      <th>Bar</th>\n",
       "      <th>CoffeeHouse</th>\n",
       "      <th>CarryAway</th>\n",
       "      <th>RestaurantLessThan20</th>\n",
       "      <th>Restaurant20To50</th>\n",
       "      <th>toCoupon_GEQ5min</th>\n",
       "      <th>toCoupon_GEQ15min</th>\n",
       "      <th>toCoupon_GEQ25min</th>\n",
       "      <th>direction_same</th>\n",
       "      <th>direction_opp</th>\n",
       "    </tr>\n",
       "    <tr>\n",
       "      <th>Y</th>\n",
       "      <th>time</th>\n",
       "      <th>income_min</th>\n",
       "      <th></th>\n",
       "      <th></th>\n",
       "      <th></th>\n",
       "      <th></th>\n",
       "      <th></th>\n",
       "      <th></th>\n",
       "      <th></th>\n",
       "      <th></th>\n",
       "      <th></th>\n",
       "      <th></th>\n",
       "      <th></th>\n",
       "      <th></th>\n",
       "      <th></th>\n",
       "      <th></th>\n",
       "      <th></th>\n",
       "      <th></th>\n",
       "      <th></th>\n",
       "      <th></th>\n",
       "      <th></th>\n",
       "      <th></th>\n",
       "      <th></th>\n",
       "      <th></th>\n",
       "      <th></th>\n",
       "    </tr>\n",
       "  </thead>\n",
       "  <tbody>\n",
       "    <tr>\n",
       "      <th rowspan=\"2\" valign=\"top\">0</th>\n",
       "      <th rowspan=\"2\" valign=\"top\">7</th>\n",
       "      <th>0</th>\n",
       "      <td>29</td>\n",
       "      <td>29</td>\n",
       "      <td>29</td>\n",
       "      <td>29</td>\n",
       "      <td>29</td>\n",
       "      <td>29</td>\n",
       "      <td>29</td>\n",
       "      <td>29</td>\n",
       "      <td>29</td>\n",
       "      <td>29</td>\n",
       "      <td>29</td>\n",
       "      <td>29</td>\n",
       "      <td>29</td>\n",
       "      <td>29</td>\n",
       "      <td>29</td>\n",
       "      <td>29</td>\n",
       "      <td>29</td>\n",
       "      <td>29</td>\n",
       "      <td>29</td>\n",
       "      <td>29</td>\n",
       "      <td>29</td>\n",
       "      <td>29</td>\n",
       "      <td>29</td>\n",
       "    </tr>\n",
       "    <tr>\n",
       "      <th>12500</th>\n",
       "      <td>36</td>\n",
       "      <td>36</td>\n",
       "      <td>36</td>\n",
       "      <td>36</td>\n",
       "      <td>36</td>\n",
       "      <td>36</td>\n",
       "      <td>36</td>\n",
       "      <td>36</td>\n",
       "      <td>36</td>\n",
       "      <td>36</td>\n",
       "      <td>36</td>\n",
       "      <td>36</td>\n",
       "      <td>36</td>\n",
       "      <td>36</td>\n",
       "      <td>36</td>\n",
       "      <td>36</td>\n",
       "      <td>36</td>\n",
       "      <td>36</td>\n",
       "      <td>36</td>\n",
       "      <td>36</td>\n",
       "      <td>36</td>\n",
       "      <td>36</td>\n",
       "      <td>36</td>\n",
       "    </tr>\n",
       "    <tr>\n",
       "      <th>...</th>\n",
       "      <th>...</th>\n",
       "      <th>...</th>\n",
       "      <td>...</td>\n",
       "      <td>...</td>\n",
       "      <td>...</td>\n",
       "      <td>...</td>\n",
       "      <td>...</td>\n",
       "      <td>...</td>\n",
       "      <td>...</td>\n",
       "      <td>...</td>\n",
       "      <td>...</td>\n",
       "      <td>...</td>\n",
       "      <td>...</td>\n",
       "      <td>...</td>\n",
       "      <td>...</td>\n",
       "      <td>...</td>\n",
       "      <td>...</td>\n",
       "      <td>...</td>\n",
       "      <td>...</td>\n",
       "      <td>...</td>\n",
       "      <td>...</td>\n",
       "      <td>...</td>\n",
       "      <td>...</td>\n",
       "      <td>...</td>\n",
       "      <td>...</td>\n",
       "    </tr>\n",
       "    <tr>\n",
       "      <th rowspan=\"2\" valign=\"top\">1</th>\n",
       "      <th rowspan=\"2\" valign=\"top\">22</th>\n",
       "      <th>87500</th>\n",
       "      <td>25</td>\n",
       "      <td>25</td>\n",
       "      <td>25</td>\n",
       "      <td>25</td>\n",
       "      <td>25</td>\n",
       "      <td>25</td>\n",
       "      <td>25</td>\n",
       "      <td>25</td>\n",
       "      <td>25</td>\n",
       "      <td>25</td>\n",
       "      <td>25</td>\n",
       "      <td>25</td>\n",
       "      <td>25</td>\n",
       "      <td>25</td>\n",
       "      <td>25</td>\n",
       "      <td>25</td>\n",
       "      <td>25</td>\n",
       "      <td>25</td>\n",
       "      <td>25</td>\n",
       "      <td>25</td>\n",
       "      <td>25</td>\n",
       "      <td>25</td>\n",
       "      <td>25</td>\n",
       "    </tr>\n",
       "    <tr>\n",
       "      <th>100000</th>\n",
       "      <td>41</td>\n",
       "      <td>41</td>\n",
       "      <td>41</td>\n",
       "      <td>41</td>\n",
       "      <td>41</td>\n",
       "      <td>41</td>\n",
       "      <td>41</td>\n",
       "      <td>41</td>\n",
       "      <td>41</td>\n",
       "      <td>41</td>\n",
       "      <td>41</td>\n",
       "      <td>41</td>\n",
       "      <td>41</td>\n",
       "      <td>41</td>\n",
       "      <td>41</td>\n",
       "      <td>41</td>\n",
       "      <td>41</td>\n",
       "      <td>41</td>\n",
       "      <td>41</td>\n",
       "      <td>41</td>\n",
       "      <td>41</td>\n",
       "      <td>41</td>\n",
       "      <td>41</td>\n",
       "    </tr>\n",
       "  </tbody>\n",
       "</table>\n",
       "<p>90 rows × 23 columns</p>\n",
       "</div>"
      ],
      "text/plain": [
       "                   destination  passanger  weather  temperature  coupon  \\\n",
       "Y time income_min                                                         \n",
       "0 7    0                    29         29       29           29      29   \n",
       "       12500                36         36       36           36      36   \n",
       "...                        ...        ...      ...          ...     ...   \n",
       "1 22   87500                25         25       25           25      25   \n",
       "       100000               41         41       41           41      41   \n",
       "\n",
       "                   expiration  gender  age  maritalStatus  has_children  \\\n",
       "Y time income_min                                                         \n",
       "0 7    0                   29      29   29             29            29   \n",
       "       12500               36      36   36             36            36   \n",
       "...                       ...     ...  ...            ...           ...   \n",
       "1 22   87500               25      25   25             25            25   \n",
       "       100000              41      41   41             41            41   \n",
       "\n",
       "                   education  occupation  income  Bar  CoffeeHouse  CarryAway  \\\n",
       "Y time income_min                                                               \n",
       "0 7    0                  29          29      29   29           29         29   \n",
       "       12500              36          36      36   36           36         36   \n",
       "...                      ...         ...     ...  ...          ...        ...   \n",
       "1 22   87500              25          25      25   25           25         25   \n",
       "       100000             41          41      41   41           41         41   \n",
       "\n",
       "                   RestaurantLessThan20  Restaurant20To50  toCoupon_GEQ5min  \\\n",
       "Y time income_min                                                             \n",
       "0 7    0                             29                29                29   \n",
       "       12500                         36                36                36   \n",
       "...                                 ...               ...               ...   \n",
       "1 22   87500                         25                25                25   \n",
       "       100000                        41                41                41   \n",
       "\n",
       "                   toCoupon_GEQ15min  toCoupon_GEQ25min  direction_same  \\\n",
       "Y time income_min                                                         \n",
       "0 7    0                          29                 29              29   \n",
       "       12500                      36                 36              36   \n",
       "...                              ...                ...             ...   \n",
       "1 22   87500                      25                 25              25   \n",
       "       100000                     41                 41              41   \n",
       "\n",
       "                   direction_opp  \n",
       "Y time income_min                 \n",
       "0 7    0                      29  \n",
       "       12500                  36  \n",
       "...                          ...  \n",
       "1 22   87500                  25  \n",
       "       100000                 41  \n",
       "\n",
       "[90 rows x 23 columns]"
      ]
     },
     "execution_count": 128,
     "metadata": {},
     "output_type": "execute_result"
    }
   ],
   "source": [
    "time_inc = carryout.groupby(['Y', 'time', 'income_min']).agg('count')\n",
    "time_inc"
   ]
  },
  {
   "cell_type": "code",
   "execution_count": 130,
   "metadata": {},
   "outputs": [
    {
     "data": {
      "text/html": [
       "<div>\n",
       "<style scoped>\n",
       "    .dataframe tbody tr th:only-of-type {\n",
       "        vertical-align: middle;\n",
       "    }\n",
       "\n",
       "    .dataframe tbody tr th {\n",
       "        vertical-align: top;\n",
       "    }\n",
       "\n",
       "    .dataframe thead th {\n",
       "        text-align: right;\n",
       "    }\n",
       "</style>\n",
       "<table border=\"1\" class=\"dataframe\">\n",
       "  <thead>\n",
       "    <tr style=\"text-align: right;\">\n",
       "      <th></th>\n",
       "      <th>Overall</th>\n",
       "      <th>Income &lt;50k before noon</th>\n",
       "      <th>Income &gt;50k before noon</th>\n",
       "      <th>Income &lt;50k after noon</th>\n",
       "      <th>Income &gt;50k after noon</th>\n",
       "    </tr>\n",
       "  </thead>\n",
       "  <tbody>\n",
       "    <tr>\n",
       "      <th>0</th>\n",
       "      <td>0.737719</td>\n",
       "      <td>0.688272</td>\n",
       "      <td>0.643705</td>\n",
       "      <td>0.827709</td>\n",
       "      <td>0.766938</td>\n",
       "    </tr>\n",
       "  </tbody>\n",
       "</table>\n",
       "</div>"
      ],
      "text/plain": [
       "    Overall  Income <50k before noon  Income >50k before noon  \\\n",
       "0  0.737719                 0.688272                 0.643705   \n",
       "\n",
       "   Income <50k after noon  Income >50k after noon  \n",
       "0                0.827709                0.766938  "
      ]
     },
     "execution_count": 130,
     "metadata": {},
     "output_type": "execute_result"
    }
   ],
   "source": [
    "#Querying on income <50k and time before noon for accepted and declined\n",
    "carryout_less50k_beforenoon_y = time_inc.query('Y == 1 and income_min < 50000 and time < 12')\n",
    "carryout_less50k_beforenoon_total = time_inc.query('income_min < 50000 and time < 12')\n",
    "\n",
    "#Calculating acceptance rate\n",
    "carryout_less50k_beforenoon = carryout_less50k_beforenoon_y['destination'].agg('sum') / carryout_less50k_beforenoon_total['destination'].agg('sum')\n",
    "carryout_acceptance['Income <50k before noon'] = [carryout_less50k_beforenoon]\n",
    "\n",
    "#Same query as before but for income >50k\n",
    "carryout_greater50k_beforenoon_y = time_inc.query('Y == 1 and income_min > 50000 and time < 12')\n",
    "carryout_greater50k_beforenoon_total = time_inc.query('income_min > 50000 and time < 12')\n",
    "\n",
    "#Calculating acceptance rate\n",
    "carryout_greater50k_beforenoon = carryout_greater50k_beforenoon_y['destination'].agg('sum') / carryout_greater50k_beforenoon_total['destination'].agg('sum')\n",
    "carryout_acceptance['Income >50k before noon'] = [carryout_greater50k_beforenoon]\n",
    "\n",
    "#Querying on income <50k and time after noon for accepted and declined\n",
    "carryout_less50k_afternoon_y = time_inc.query('Y == 1 and income_min < 50000 and time > 12')\n",
    "carryout_less50k_afternoon_total = time_inc.query('income_min < 50000 and time > 12')\n",
    "\n",
    "#Calculating acceptance rate\n",
    "carryout_less50k_afternoon = carryout_less50k_afternoon_y['destination'].agg('sum') / carryout_less50k_afternoon_total['destination'].agg('sum')\n",
    "carryout_acceptance['Income <50k after noon'] = [carryout_less50k_afternoon]\n",
    "\n",
    "#Same query as before but for income >50k\n",
    "carryout_greater50k_afternoon_y = time_inc.query('Y == 1 and income_min > 50000 and time > 12')\n",
    "carryout_greater50k_afternoon_total = time_inc.query('income_min > 50000 and time > 12')\n",
    "\n",
    "#Calculating acceptance rate\n",
    "carryout_greater50k_afternoon = carryout_greater50k_afternoon_y['destination'].agg('sum') / carryout_greater50k_afternoon_total['destination'].agg('sum')\n",
    "carryout_acceptance['Income >50k after noon'] = [carryout_greater50k_afternoon]\n",
    "\n",
    "carryout_acceptance"
   ]
  },
  {
   "cell_type": "code",
   "execution_count": 132,
   "metadata": {},
   "outputs": [
    {
     "data": {
      "text/plain": [
       "array(['No Urgent Place', 'Home', 'Work'], dtype=object)"
      ]
     },
     "execution_count": 132,
     "metadata": {},
     "output_type": "execute_result"
    }
   ],
   "source": [
    "data['destination'].unique()"
   ]
  },
  {
   "cell_type": "code",
   "execution_count": 134,
   "metadata": {},
   "outputs": [
    {
     "data": {
      "text/html": [
       "<div>\n",
       "<style scoped>\n",
       "    .dataframe tbody tr th:only-of-type {\n",
       "        vertical-align: middle;\n",
       "    }\n",
       "\n",
       "    .dataframe tbody tr th {\n",
       "        vertical-align: top;\n",
       "    }\n",
       "\n",
       "    .dataframe thead th {\n",
       "        text-align: right;\n",
       "    }\n",
       "</style>\n",
       "<table border=\"1\" class=\"dataframe\">\n",
       "  <thead>\n",
       "    <tr style=\"text-align: right;\">\n",
       "      <th></th>\n",
       "      <th>Overall</th>\n",
       "      <th>Income &lt;50k before noon</th>\n",
       "      <th>Income &gt;50k before noon</th>\n",
       "      <th>Income &lt;50k after noon</th>\n",
       "      <th>Income &gt;50k after noon</th>\n",
       "      <th>2h Expiration, morning</th>\n",
       "      <th>1d Expiration, morning</th>\n",
       "      <th>2h Expiration, afternoon</th>\n",
       "      <th>1d Expiration, afternoon</th>\n",
       "    </tr>\n",
       "  </thead>\n",
       "  <tbody>\n",
       "    <tr>\n",
       "      <th>0</th>\n",
       "      <td>0.737719</td>\n",
       "      <td>0.688272</td>\n",
       "      <td>0.643705</td>\n",
       "      <td>0.827709</td>\n",
       "      <td>0.766938</td>\n",
       "      <td>0.615512</td>\n",
       "      <td>0.608483</td>\n",
       "      <td>0.764085</td>\n",
       "      <td>0.823681</td>\n",
       "    </tr>\n",
       "  </tbody>\n",
       "</table>\n",
       "</div>"
      ],
      "text/plain": [
       "    Overall  Income <50k before noon  Income >50k before noon  \\\n",
       "0  0.737719                 0.688272                 0.643705   \n",
       "\n",
       "   Income <50k after noon  Income >50k after noon  2h Expiration, morning  \\\n",
       "0                0.827709                0.766938                0.615512   \n",
       "\n",
       "   1d Expiration, morning  2h Expiration, afternoon  1d Expiration, afternoon  \n",
       "0                0.608483                  0.764085                  0.823681  "
      ]
     },
     "execution_count": 134,
     "metadata": {},
     "output_type": "execute_result"
    }
   ],
   "source": [
    "exp_time = carryout.groupby(['Y', 'expiration', 'time']).agg('count')\n",
    "\n",
    "exp_2h_morning_y = exp_time.query('Y == 1 and expiration == \"2h\" and time < 12')\n",
    "exp_2h_morning_total = exp_time.query('expiration == \"2h\" and time < 12')\n",
    "exp_2h_morning_acceptance = exp_2h_morning_y['destination'].agg('sum') / exp_2h_morning_total['destination'].agg('sum')\n",
    "carryout_acceptance['2h Expiration, morning'] = [exp_2h_morning_acceptance]\n",
    "\n",
    "exp_1d_morning_y = exp_time.query('Y == 1 and expiration == \"1d\" and time < 12')\n",
    "exp_1d_morning_total = exp_time.query('expiration == \"1d\" and time < 12')\n",
    "exp_1d_morning_acceptance = exp_2h_morning_y['destination'].agg('sum') / exp_1d_morning_total['destination'].agg('sum')\n",
    "carryout_acceptance['1d Expiration, morning'] = [exp_1d_morning_acceptance]\n",
    "\n",
    "exp_2h_afternoon_y = exp_time.query('Y == 1 and expiration == \"2h\" and time > 12')\n",
    "exp_2h_afternoon_total = exp_time.query('expiration == \"2h\" and time > 12')\n",
    "exp_2h_afternoon_acceptance = exp_2h_afternoon_y['destination'].agg('sum') / exp_2h_afternoon_total['destination'].agg('sum')\n",
    "carryout_acceptance['2h Expiration, afternoon'] = [exp_2h_afternoon_acceptance]\n",
    "\n",
    "exp_1d_afternoon_y = exp_time.query('Y == 1 and expiration == \"1d\" and time > 12')\n",
    "exp_1d_afternoon_total = exp_time.query('expiration == \"1d\" and time > 12')\n",
    "exp_1d_afternoon_acceptance = exp_1d_afternoon_y['destination'].agg('sum') / exp_1d_afternoon_total['destination'].agg('sum')\n",
    "carryout_acceptance['1d Expiration, afternoon'] = [exp_1d_afternoon_acceptance]\n",
    "\n",
    "carryout_acceptance"
   ]
  },
  {
   "cell_type": "markdown",
   "metadata": {},
   "source": [
    "# Independent Investigation Findings\n",
    "\n",
    "## Carryout Coupons and Time of Day\n",
    "\n",
    "1. Coupons for carryout and take away restaurants are more often given out in the morning and evening. This makes sense, due to the fact that during lunch time, people are already going to restaurants without the need of a coupon to entice them.\n",
    "2. Although more coupons are offered in the morning, a greater proportion are accepted in the afternoon/evening\n",
    "3. Income level does not have much affect on acceptance rate before noon; acceptance rates for the morning are below the expected acceptance rate over the entire day, regardless of income level. Income has a larger effect in the afternoon, where lower income individuals are about 10% more likely to accept the coupon compared to the average acceptance rate.\n",
    "4. Expiration date of the coupon has little affect on acceptance rate in the morning, however it has a significant effect in the afternoon. Coupons that expire in 2h have a similar acceptance rate to the daily average, however coupons that expire in 1 day are about 10% more likely to be accepted\n",
    "\n",
    "## Hypothesis\n",
    "The time of day that a coupon is offerred has a significant impact on whether a person will accept the coupon. I hypothesize this is due to peoples' schedules. In the morning and mid day, people are less likely to accept a coupon for a carryout restaurant, because they have already taken care of breakfast/lunch. People are more likely to accept a coupon in the afternoon/evening because they are more likely to eat dinner from a carryout restaurant."
   ]
  },
  {
   "cell_type": "code",
   "execution_count": null,
   "metadata": {},
   "outputs": [],
   "source": []
  }
 ],
 "metadata": {
  "colab": {
   "provenance": []
  },
  "kernelspec": {
   "display_name": "Python [conda env:base] *",
   "language": "python",
   "name": "conda-base-py"
  },
  "language_info": {
   "codemirror_mode": {
    "name": "ipython",
    "version": 3
   },
   "file_extension": ".py",
   "mimetype": "text/x-python",
   "name": "python",
   "nbconvert_exporter": "python",
   "pygments_lexer": "ipython3",
   "version": "3.12.7"
  }
 },
 "nbformat": 4,
 "nbformat_minor": 4
}
